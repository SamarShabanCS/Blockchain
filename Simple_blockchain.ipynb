{
  "nbformat": 4,
  "nbformat_minor": 0,
  "metadata": {
    "colab": {
      "provenance": []
    },
    "kernelspec": {
      "name": "python3",
      "display_name": "Python 3"
    },
    "language_info": {
      "name": "python"
    }
  },
  "cells": [
    {
      "cell_type": "code",
      "execution_count": 4,
      "metadata": {
        "id": "2qQgf324eksQ"
      },
      "outputs": [],
      "source": [
        "import hashlib\n",
        "import datetime as date"
      ]
    },
    {
      "cell_type": "markdown",
      "source": [
        "***Creating the Block Class***\n",
        "\n",
        "Creating a Block class that will define the structure of each block in the blockchain. Each block will have the following attributes:\n",
        "\n",
        "**Index**: This is the position of the block in the blockchain.\n",
        "**Timestamp**: This is the time at which the block was added to the chain.\n",
        "**Data**: This is the data that is stored in the block.\n",
        "**Previous Hash**: This is the cryptographic hash of the previous block in the chain.\n",
        "**Hash**: This is the cryptographic hash of the current block."
      ],
      "metadata": {
        "id": "ar7OaERMkNvn"
      }
    },
    {
      "cell_type": "code",
      "source": [
        "class Block:\n",
        "    def __init__(self, index, timestamp, data, previous_hash):\n",
        "        self.index = index\n",
        "        self.timestamp = timestamp\n",
        "        self.data = data\n",
        "        self.previous_hash = previous_hash\n",
        "        self.hash = self.calculate_hash()\n",
        "\n",
        "    def calculate_hash(self):\n",
        "        hash_string = str(self.index) + str(self.timestamp) + str(self.data) + str(self.previous_hash)\n",
        "        return hashlib.sha256(hash_string.encode()).hexdigest()"
      ],
      "metadata": {
        "id": "nogyCA9WenCQ"
      },
      "execution_count": 5,
      "outputs": []
    },
    {
      "cell_type": "code",
      "source": [],
      "metadata": {
        "id": "wP917R3didoq"
      },
      "execution_count": 5,
      "outputs": []
    },
    {
      "cell_type": "markdown",
      "source": [
        "Creating a ***Blockchain class*** that will define the structure of the blockchain. Each blockchain will have the following attributes."
      ],
      "metadata": {
        "id": "gpoFXrXRmcDL"
      }
    },
    {
      "cell_type": "code",
      "source": [
        "class Blockchain:\n",
        "    def __init__(self):\n",
        "        self.chain = [self.create_genesis_block()]\n",
        "\n",
        "    def create_genesis_block(self):\n",
        "        return Block(0, date.datetime.now(), \"Genesis Block\", \"0\")\n",
        "\n",
        "    def get_latest_block(self):\n",
        "        return self.chain[-1]\n",
        "\n",
        "    def add_block(self, new_block):\n",
        "        new_block.previous_hash = self.get_latest_block().hash\n",
        "        new_block.hash = new_block.calculate_hash()\n",
        "        self.chain.append(new_block)\n",
        "\n",
        "    def is_valid(self):\n",
        "        for i in range(1, len(self.chain)):\n",
        "            current_block = self.chain[i]\n",
        "            previous_block = self.chain[i-1]\n",
        "\n",
        "            if current_block.hash != current_block.calculate_hash():\n",
        "                return False\n",
        "\n",
        "            if current_block.previous_hash != previous_block.hash:\n",
        "                return False\n",
        "\n",
        "        return True"
      ],
      "metadata": {
        "id": "723mgeBVmbWW"
      },
      "execution_count": 6,
      "outputs": []
    },
    {
      "cell_type": "markdown",
      "source": [
        "creating some blocks and adding them to the chain to ***test*** it."
      ],
      "metadata": {
        "id": "tiJJ4pk-D5S_"
      }
    },
    {
      "cell_type": "code",
      "source": [
        "# Create the blockchain\n",
        "blockchain = Blockchain()\n",
        "\n",
        "# Add blocks to the blockchain\n",
        "blockchain.add_block(Block(1, date.datetime.now(), \"Transaction Data 1\", \"\"))\n",
        "blockchain.add_block(Block(2, date.datetime.now(), \"Transaction Data 2\", \"\"))\n",
        "blockchain.add_block(Block(3, date.datetime.now(), \"Transaction Data 3\", \"\"))\n",
        "\n",
        "# Print the contents of the blockchain\n",
        "for block in blockchain.chain:\n",
        "    print(\"Block #\" + str(block.index))\n",
        "    print(\"Timestamp: \" + str(block.timestamp))\n",
        "    print(\"Data: \" + block.data)\n",
        "    print(\"Hash: \" + block.hash)\n",
        "    print(\"Previous Hash: \" + block.previous_hash)\n",
        "    print(\"\\n\")"
      ],
      "metadata": {
        "colab": {
          "base_uri": "https://localhost:8080/"
        },
        "id": "h3kMpNHyD92a",
        "outputId": "e12a886e-3120-4f86-a4be-e279c4fcda50"
      },
      "execution_count": 7,
      "outputs": [
        {
          "output_type": "stream",
          "name": "stdout",
          "text": [
            "Block #0\n",
            "Timestamp: 2024-04-24 17:08:44.629683\n",
            "Data: Genesis Block\n",
            "Hash: 81c301d102f1d90642682c5c369cfa5d08d9450a82bc7214e1af2b5eea9f83c2\n",
            "Previous Hash: 0\n",
            "\n",
            "\n",
            "Block #1\n",
            "Timestamp: 2024-04-24 17:08:44.630123\n",
            "Data: Transaction Data 1\n",
            "Hash: 9662f9b64dd407868cc008b29e9be576fba349162384977dc80f139a787b784f\n",
            "Previous Hash: 81c301d102f1d90642682c5c369cfa5d08d9450a82bc7214e1af2b5eea9f83c2\n",
            "\n",
            "\n",
            "Block #2\n",
            "Timestamp: 2024-04-24 17:08:44.630298\n",
            "Data: Transaction Data 2\n",
            "Hash: 29a1292bb8ab7d2485f0e9100a9b8792b9421e0756e74c1e6ed3e34e566f9560\n",
            "Previous Hash: 9662f9b64dd407868cc008b29e9be576fba349162384977dc80f139a787b784f\n",
            "\n",
            "\n",
            "Block #3\n",
            "Timestamp: 2024-04-24 17:08:44.631165\n",
            "Data: Transaction Data 3\n",
            "Hash: f5582e81fb365bd854a52d72cc7b59cf3618dd8e8095db600d96b395f0fe2632\n",
            "Previous Hash: 29a1292bb8ab7d2485f0e9100a9b8792b9421e0756e74c1e6ed3e34e566f9560\n",
            "\n",
            "\n"
          ]
        }
      ]
    },
    {
      "cell_type": "markdown",
      "source": [
        "***Note***: The hash of each block is based on the data of the block and the hash of the previous block, which ensures the integrity and security of the blockchain."
      ],
      "metadata": {
        "id": "jksQzfpzFomQ"
      }
    },
    {
      "cell_type": "code",
      "source": [],
      "metadata": {
        "id": "_xFJ1_vvFIa8"
      },
      "execution_count": null,
      "outputs": []
    }
  ]
}